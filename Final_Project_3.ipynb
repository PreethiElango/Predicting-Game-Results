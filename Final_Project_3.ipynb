{
 "cells": [
  {
   "cell_type": "code",
   "execution_count": 2,
   "metadata": {},
   "outputs": [],
   "source": [
    "import numpy as np\n",
    "import pandas as pd\n",
    "import matplotlib.pyplot as plt\n",
    "import seaborn as sns \n",
    "import statistics\n",
    "from sklearn.model_selection import train_test_split\n",
    "from sklearn import ensemble\n",
    "from sklearn import preprocessing\n",
    "from sklearn.preprocessing import StandardScaler\n",
    "from scipy import stats \n",
    "from sklearn import metrics\n",
    "from sklearn.linear_model import LogisticRegression\n",
    "from sklearn.metrics import accuracy_score\n",
    "from sklearn.cluster import KMeans\n",
    "from scipy.cluster import hierarchy\n",
    "from sklearn import linear_model"
   ]
  },
  {
   "cell_type": "markdown",
   "metadata": {},
   "source": [
    "# Data set Loading"
   ]
  },
  {
   "cell_type": "code",
   "execution_count": 45,
   "metadata": {},
   "outputs": [
    {
     "name": "stderr",
     "output_type": "stream",
     "text": [
      "C:\\Users\\Preethi\\Anaconda3\\lib\\site-packages\\IPython\\core\\interactiveshell.py:3057: DtypeWarning: Columns (42,167,168,191,192,227,228,240) have mixed types. Specify dtype option on import or set low_memory=False.\n",
      "  interactivity=interactivity, compiler=compiler, result=result)\n",
      "C:\\Users\\Preethi\\Anaconda3\\lib\\site-packages\\IPython\\core\\interactiveshell.py:3057: DtypeWarning: Columns (42,167,168,169,170,179,180,183,184,189,190,191,192,199,200,201,202,203,204,205,206,208,210,212,227,228,229,230,231,232,233,234,235,237,238,239,241,242,250) have mixed types. Specify dtype option on import or set low_memory=False.\n",
      "  interactivity=interactivity, compiler=compiler, result=result)\n"
     ]
    },
    {
     "data": {
      "text/html": [
       "<div>\n",
       "<style scoped>\n",
       "    .dataframe tbody tr th:only-of-type {\n",
       "        vertical-align: middle;\n",
       "    }\n",
       "\n",
       "    .dataframe tbody tr th {\n",
       "        vertical-align: top;\n",
       "    }\n",
       "\n",
       "    .dataframe thead th {\n",
       "        text-align: right;\n",
       "    }\n",
       "</style>\n",
       "<table border=\"1\" class=\"dataframe\">\n",
       "  <thead>\n",
       "    <tr style=\"text-align: right;\">\n",
       "      <th></th>\n",
       "      <th>Date</th>\n",
       "      <th>Home Team</th>\n",
       "      <th>Away Team</th>\n",
       "      <th>Home Score</th>\n",
       "      <th>Away Score</th>\n",
       "      <th>Overtime</th>\n",
       "      <th>Playoff Game</th>\n",
       "      <th>Neutral Venue</th>\n",
       "      <th>Home Odds Open</th>\n",
       "      <th>Home Odds Min</th>\n",
       "      <th>...</th>\n",
       "      <th>Total Score Close</th>\n",
       "      <th>Total Score Over Open</th>\n",
       "      <th>Total Score Over Min</th>\n",
       "      <th>Total Score Over Max</th>\n",
       "      <th>Total Score Over Close</th>\n",
       "      <th>Total Score Under Open</th>\n",
       "      <th>Total Score Under Min</th>\n",
       "      <th>Total Score Under Max</th>\n",
       "      <th>Total Score Under Close</th>\n",
       "      <th>Notes</th>\n",
       "    </tr>\n",
       "  </thead>\n",
       "  <tbody>\n",
       "    <tr>\n",
       "      <th>0</th>\n",
       "      <td>2019-11-25</td>\n",
       "      <td>Los Angeles Rams</td>\n",
       "      <td>Baltimore Ravens</td>\n",
       "      <td>6</td>\n",
       "      <td>45</td>\n",
       "      <td>NaN</td>\n",
       "      <td>NaN</td>\n",
       "      <td>NaN</td>\n",
       "      <td>2.30</td>\n",
       "      <td>2.30</td>\n",
       "      <td>...</td>\n",
       "      <td>47.0</td>\n",
       "      <td>1.95</td>\n",
       "      <td>1.9</td>\n",
       "      <td>1.95</td>\n",
       "      <td>1.9</td>\n",
       "      <td>1.86</td>\n",
       "      <td>1.9</td>\n",
       "      <td>1.90</td>\n",
       "      <td>1.9</td>\n",
       "      <td>NaN</td>\n",
       "    </tr>\n",
       "    <tr>\n",
       "      <th>1</th>\n",
       "      <td>2019-11-24</td>\n",
       "      <td>San Francisco 49ers</td>\n",
       "      <td>Green Bay Packers</td>\n",
       "      <td>37</td>\n",
       "      <td>8</td>\n",
       "      <td>NaN</td>\n",
       "      <td>NaN</td>\n",
       "      <td>NaN</td>\n",
       "      <td>1.60</td>\n",
       "      <td>1.57</td>\n",
       "      <td>...</td>\n",
       "      <td>48.0</td>\n",
       "      <td>1.95</td>\n",
       "      <td>1.9</td>\n",
       "      <td>1.90</td>\n",
       "      <td>1.9</td>\n",
       "      <td>1.86</td>\n",
       "      <td>1.9</td>\n",
       "      <td>1.90</td>\n",
       "      <td>1.9</td>\n",
       "      <td>NaN</td>\n",
       "    </tr>\n",
       "    <tr>\n",
       "      <th>2</th>\n",
       "      <td>2019-11-24</td>\n",
       "      <td>New England Patriots</td>\n",
       "      <td>Dallas Cowboys</td>\n",
       "      <td>13</td>\n",
       "      <td>9</td>\n",
       "      <td>NaN</td>\n",
       "      <td>NaN</td>\n",
       "      <td>NaN</td>\n",
       "      <td>1.36</td>\n",
       "      <td>1.34</td>\n",
       "      <td>...</td>\n",
       "      <td>44.5</td>\n",
       "      <td>1.95</td>\n",
       "      <td>1.9</td>\n",
       "      <td>1.95</td>\n",
       "      <td>1.9</td>\n",
       "      <td>1.86</td>\n",
       "      <td>1.9</td>\n",
       "      <td>1.86</td>\n",
       "      <td>1.9</td>\n",
       "      <td>NaN</td>\n",
       "    </tr>\n",
       "    <tr>\n",
       "      <th>3</th>\n",
       "      <td>2019-11-24</td>\n",
       "      <td>Tennessee Titans</td>\n",
       "      <td>Jacksonville Jaguars</td>\n",
       "      <td>42</td>\n",
       "      <td>20</td>\n",
       "      <td>NaN</td>\n",
       "      <td>NaN</td>\n",
       "      <td>NaN</td>\n",
       "      <td>1.58</td>\n",
       "      <td>1.47</td>\n",
       "      <td>...</td>\n",
       "      <td>42.5</td>\n",
       "      <td>1.90</td>\n",
       "      <td>1.9</td>\n",
       "      <td>1.90</td>\n",
       "      <td>1.9</td>\n",
       "      <td>1.90</td>\n",
       "      <td>1.9</td>\n",
       "      <td>1.90</td>\n",
       "      <td>1.9</td>\n",
       "      <td>NaN</td>\n",
       "    </tr>\n",
       "    <tr>\n",
       "      <th>4</th>\n",
       "      <td>2019-11-24</td>\n",
       "      <td>Atlanta Falcons</td>\n",
       "      <td>Tampa Bay Buccaneers</td>\n",
       "      <td>22</td>\n",
       "      <td>35</td>\n",
       "      <td>NaN</td>\n",
       "      <td>NaN</td>\n",
       "      <td>NaN</td>\n",
       "      <td>1.45</td>\n",
       "      <td>1.44</td>\n",
       "      <td>...</td>\n",
       "      <td>51.5</td>\n",
       "      <td>1.95</td>\n",
       "      <td>1.9</td>\n",
       "      <td>1.95</td>\n",
       "      <td>1.9</td>\n",
       "      <td>1.86</td>\n",
       "      <td>1.9</td>\n",
       "      <td>1.90</td>\n",
       "      <td>1.9</td>\n",
       "      <td>NaN</td>\n",
       "    </tr>\n",
       "  </tbody>\n",
       "</table>\n",
       "<p>5 rows × 45 columns</p>\n",
       "</div>"
      ],
      "text/plain": [
       "        Date             Home Team             Away Team  Home Score  \\\n",
       "0 2019-11-25      Los Angeles Rams      Baltimore Ravens           6   \n",
       "1 2019-11-24   San Francisco 49ers     Green Bay Packers          37   \n",
       "2 2019-11-24  New England Patriots        Dallas Cowboys          13   \n",
       "3 2019-11-24      Tennessee Titans  Jacksonville Jaguars          42   \n",
       "4 2019-11-24       Atlanta Falcons  Tampa Bay Buccaneers          22   \n",
       "\n",
       "   Away Score Overtime Playoff Game Neutral Venue  Home Odds Open  \\\n",
       "0          45      NaN          NaN           NaN            2.30   \n",
       "1           8      NaN          NaN           NaN            1.60   \n",
       "2           9      NaN          NaN           NaN            1.36   \n",
       "3          20      NaN          NaN           NaN            1.58   \n",
       "4          35      NaN          NaN           NaN            1.45   \n",
       "\n",
       "   Home Odds Min  ...  Total Score Close  Total Score Over Open  \\\n",
       "0           2.30  ...               47.0                   1.95   \n",
       "1           1.57  ...               48.0                   1.95   \n",
       "2           1.34  ...               44.5                   1.95   \n",
       "3           1.47  ...               42.5                   1.90   \n",
       "4           1.44  ...               51.5                   1.95   \n",
       "\n",
       "   Total Score Over Min  Total Score Over Max  Total Score Over Close  \\\n",
       "0                   1.9                  1.95                     1.9   \n",
       "1                   1.9                  1.90                     1.9   \n",
       "2                   1.9                  1.95                     1.9   \n",
       "3                   1.9                  1.90                     1.9   \n",
       "4                   1.9                  1.95                     1.9   \n",
       "\n",
       "   Total Score Under Open  Total Score Under Min  Total Score Under Max  \\\n",
       "0                    1.86                    1.9                   1.90   \n",
       "1                    1.86                    1.9                   1.90   \n",
       "2                    1.86                    1.9                   1.86   \n",
       "3                    1.90                    1.9                   1.90   \n",
       "4                    1.86                    1.9                   1.90   \n",
       "\n",
       "   Total Score Under Close  Notes  \n",
       "0                      1.9    NaN  \n",
       "1                      1.9    NaN  \n",
       "2                      1.9    NaN  \n",
       "3                      1.9    NaN  \n",
       "4                      1.9    NaN  \n",
       "\n",
       "[5 rows x 45 columns]"
      ]
     },
     "execution_count": 45,
     "metadata": {},
     "output_type": "execute_result"
    }
   ],
   "source": [
    "df = pd.read_excel(\"nfl.xlsx\")\n",
    "elo_rating = pd.read_csv(\"elo_nfl_games.csv\")\n",
    "play_by_play = pd.read_csv(\"play-by-play2019.csv\")\n",
    "play_by_play_training = pd.read_csv(\"play-by-play2018.csv\")\n",
    "df.head()"
   ]
  },
  {
   "cell_type": "markdown",
   "metadata": {},
   "source": [
    "# Data Processing"
   ]
  },
  {
   "cell_type": "code",
   "execution_count": 22,
   "metadata": {},
   "outputs": [
    {
     "data": {
      "text/html": [
       "<div>\n",
       "<style scoped>\n",
       "    .dataframe tbody tr th:only-of-type {\n",
       "        vertical-align: middle;\n",
       "    }\n",
       "\n",
       "    .dataframe tbody tr th {\n",
       "        vertical-align: top;\n",
       "    }\n",
       "\n",
       "    .dataframe thead th {\n",
       "        text-align: right;\n",
       "    }\n",
       "</style>\n",
       "<table border=\"1\" class=\"dataframe\">\n",
       "  <thead>\n",
       "    <tr style=\"text-align: right;\">\n",
       "      <th></th>\n",
       "      <th>Date</th>\n",
       "      <th>Home Team</th>\n",
       "      <th>Away Team</th>\n",
       "      <th>Home Score</th>\n",
       "      <th>Away Score</th>\n",
       "      <th>Home Odds Open</th>\n",
       "      <th>Home Odds Min</th>\n",
       "      <th>Home Odds Max</th>\n",
       "      <th>Home Odds Close</th>\n",
       "      <th>Away Odds Open</th>\n",
       "      <th>...</th>\n",
       "      <th>Total Score Over Close</th>\n",
       "      <th>Total Score Under Open</th>\n",
       "      <th>Total Score Under Min</th>\n",
       "      <th>Total Score Under Max</th>\n",
       "      <th>Total Score Under Close</th>\n",
       "      <th>Winner</th>\n",
       "      <th>Home Odd Diff</th>\n",
       "      <th>Away Odd Diff</th>\n",
       "      <th>Spread Fav</th>\n",
       "      <th>Odd Fav</th>\n",
       "    </tr>\n",
       "  </thead>\n",
       "  <tbody>\n",
       "    <tr>\n",
       "      <th>0</th>\n",
       "      <td>2019-11-25</td>\n",
       "      <td>Los Angeles Rams</td>\n",
       "      <td>Baltimore Ravens</td>\n",
       "      <td>6</td>\n",
       "      <td>45</td>\n",
       "      <td>2.30</td>\n",
       "      <td>2.30</td>\n",
       "      <td>2.60</td>\n",
       "      <td>2.50</td>\n",
       "      <td>1.66</td>\n",
       "      <td>...</td>\n",
       "      <td>1.9</td>\n",
       "      <td>1.86</td>\n",
       "      <td>1.9</td>\n",
       "      <td>1.90</td>\n",
       "      <td>1.9</td>\n",
       "      <td>0</td>\n",
       "      <td>0</td>\n",
       "      <td>0</td>\n",
       "      <td>0</td>\n",
       "      <td>0.92</td>\n",
       "    </tr>\n",
       "    <tr>\n",
       "      <th>1</th>\n",
       "      <td>2019-11-24</td>\n",
       "      <td>San Francisco 49ers</td>\n",
       "      <td>Green Bay Packers</td>\n",
       "      <td>37</td>\n",
       "      <td>8</td>\n",
       "      <td>1.60</td>\n",
       "      <td>1.57</td>\n",
       "      <td>1.64</td>\n",
       "      <td>1.57</td>\n",
       "      <td>2.45</td>\n",
       "      <td>...</td>\n",
       "      <td>1.9</td>\n",
       "      <td>1.86</td>\n",
       "      <td>1.9</td>\n",
       "      <td>1.90</td>\n",
       "      <td>1.9</td>\n",
       "      <td>1</td>\n",
       "      <td>1</td>\n",
       "      <td>1</td>\n",
       "      <td>1</td>\n",
       "      <td>-0.98</td>\n",
       "    </tr>\n",
       "    <tr>\n",
       "      <th>2</th>\n",
       "      <td>2019-11-24</td>\n",
       "      <td>New England Patriots</td>\n",
       "      <td>Dallas Cowboys</td>\n",
       "      <td>13</td>\n",
       "      <td>9</td>\n",
       "      <td>1.36</td>\n",
       "      <td>1.34</td>\n",
       "      <td>1.41</td>\n",
       "      <td>1.40</td>\n",
       "      <td>3.25</td>\n",
       "      <td>...</td>\n",
       "      <td>1.9</td>\n",
       "      <td>1.86</td>\n",
       "      <td>1.9</td>\n",
       "      <td>1.86</td>\n",
       "      <td>1.9</td>\n",
       "      <td>1</td>\n",
       "      <td>0</td>\n",
       "      <td>0</td>\n",
       "      <td>1</td>\n",
       "      <td>-1.70</td>\n",
       "    </tr>\n",
       "    <tr>\n",
       "      <th>3</th>\n",
       "      <td>2019-11-24</td>\n",
       "      <td>Tennessee Titans</td>\n",
       "      <td>Jacksonville Jaguars</td>\n",
       "      <td>42</td>\n",
       "      <td>20</td>\n",
       "      <td>1.58</td>\n",
       "      <td>1.47</td>\n",
       "      <td>1.60</td>\n",
       "      <td>1.47</td>\n",
       "      <td>2.50</td>\n",
       "      <td>...</td>\n",
       "      <td>1.9</td>\n",
       "      <td>1.90</td>\n",
       "      <td>1.9</td>\n",
       "      <td>1.90</td>\n",
       "      <td>1.9</td>\n",
       "      <td>1</td>\n",
       "      <td>1</td>\n",
       "      <td>1</td>\n",
       "      <td>1</td>\n",
       "      <td>-1.28</td>\n",
       "    </tr>\n",
       "    <tr>\n",
       "      <th>4</th>\n",
       "      <td>2019-11-24</td>\n",
       "      <td>Atlanta Falcons</td>\n",
       "      <td>Tampa Bay Buccaneers</td>\n",
       "      <td>22</td>\n",
       "      <td>35</td>\n",
       "      <td>1.45</td>\n",
       "      <td>1.44</td>\n",
       "      <td>1.54</td>\n",
       "      <td>1.54</td>\n",
       "      <td>2.80</td>\n",
       "      <td>...</td>\n",
       "      <td>1.9</td>\n",
       "      <td>1.86</td>\n",
       "      <td>1.9</td>\n",
       "      <td>1.90</td>\n",
       "      <td>1.9</td>\n",
       "      <td>0</td>\n",
       "      <td>0</td>\n",
       "      <td>0</td>\n",
       "      <td>1</td>\n",
       "      <td>-1.11</td>\n",
       "    </tr>\n",
       "  </tbody>\n",
       "</table>\n",
       "<p>5 rows × 46 columns</p>\n",
       "</div>"
      ],
      "text/plain": [
       "        Date             Home Team             Away Team  Home Score  \\\n",
       "0 2019-11-25      Los Angeles Rams      Baltimore Ravens           6   \n",
       "1 2019-11-24   San Francisco 49ers     Green Bay Packers          37   \n",
       "2 2019-11-24  New England Patriots        Dallas Cowboys          13   \n",
       "3 2019-11-24      Tennessee Titans  Jacksonville Jaguars          42   \n",
       "4 2019-11-24       Atlanta Falcons  Tampa Bay Buccaneers          22   \n",
       "\n",
       "   Away Score  Home Odds Open  Home Odds Min  Home Odds Max  Home Odds Close  \\\n",
       "0          45            2.30           2.30           2.60             2.50   \n",
       "1           8            1.60           1.57           1.64             1.57   \n",
       "2           9            1.36           1.34           1.41             1.40   \n",
       "3          20            1.58           1.47           1.60             1.47   \n",
       "4          35            1.45           1.44           1.54             1.54   \n",
       "\n",
       "   Away Odds Open  ...  Total Score Over Close  Total Score Under Open  \\\n",
       "0            1.66  ...                     1.9                    1.86   \n",
       "1            2.45  ...                     1.9                    1.86   \n",
       "2            3.25  ...                     1.9                    1.86   \n",
       "3            2.50  ...                     1.9                    1.90   \n",
       "4            2.80  ...                     1.9                    1.86   \n",
       "\n",
       "   Total Score Under Min  Total Score Under Max  Total Score Under Close  \\\n",
       "0                    1.9                   1.90                      1.9   \n",
       "1                    1.9                   1.90                      1.9   \n",
       "2                    1.9                   1.86                      1.9   \n",
       "3                    1.9                   1.90                      1.9   \n",
       "4                    1.9                   1.90                      1.9   \n",
       "\n",
       "   Winner  Home Odd Diff  Away Odd Diff  Spread Fav  Odd Fav  \n",
       "0       0              0              0           0     0.92  \n",
       "1       1              1              1           1    -0.98  \n",
       "2       1              0              0           1    -1.70  \n",
       "3       1              1              1           1    -1.28  \n",
       "4       0              0              0           1    -1.11  \n",
       "\n",
       "[5 rows x 46 columns]"
      ]
     },
     "execution_count": 22,
     "metadata": {},
     "output_type": "execute_result"
    }
   ],
   "source": [
    "df.drop(columns = ['Overtime', 'Playoff Game', 'Neutral Venue', 'Notes'], inplace = True)\n",
    "df = df.dropna()\n",
    "df['Winner'] = df.apply(lambda x : \"1\" if x['Home Score'] > x['Away Score']  else \"0\", axis=1)\n",
    "df['Winner'] = df.apply(lambda x : \"-1\" if x['Home Score'] == x['Away Score'] else x[\"Winner\"], axis=1)\n",
    "df['Home Odd Diff'] = df.apply(lambda x : \"1\" if x['Home Odds Open'] > x['Home Odds Close']  else \"0\", axis=1)\n",
    "df['Away Odd Diff'] = df.apply(lambda x : \"1\" if x['Away Odds Open'] < x['Away Odds Close']  else \"0\", axis=1)\n",
    "df['Spread Fav'] = df.apply(lambda x : \"1\" if x['Home Line Close'] < x['Away Line Close']  else \"0\", axis=1)\n",
    "df['Odd Fav'] = df['Home Odds Close'] - df['Away Odds Close']\n",
    "df.head()"
   ]
  },
  {
   "cell_type": "code",
   "execution_count": 23,
   "metadata": {},
   "outputs": [],
   "source": [
    "elo_rating = elo_rating.replace({\n",
    "    'ARI' : 'Arizona Cardinals',\n",
    "    'ATL':'Atlanta Falcons',\n",
    "    'BAL':'Baltimore Ravens',\n",
    "    'BUF':'Buffalo Bills',\n",
    "    'CAR':'Carolina Panthers',\n",
    "    'CHI':'Chicago Bears',\n",
    "    'CIN':'Cincinnati Bengals',\n",
    "    'CLE':'Cleveland Browns',\n",
    "    'DAL':'Dallas Cowboys',\n",
    "    'DEN':'Denver Broncos',\n",
    "    'DET':'Detroit Lions',\n",
    "    'GB':'Green Bay Packers',\n",
    "    'HOU':'Houston Texans',\n",
    "    'IND':'Indianapolis Colts',\n",
    "    'JAX': 'Jacksonville Jaguars',\n",
    "    'KC':'Kansas City Chiefs',\n",
    "    'LAR':'Los Angeles Rams',\n",
    "    'MIA':'Miami Dolphins',\n",
    "    'MIN':'Minnesota Vikings',\n",
    "    'NE':'New England Patriots',\n",
    "    'NO':'New Orleans Saints',\n",
    "    'NYG':'New York Giants',\n",
    "    'NYJ':'New York Jets',\n",
    "    'OAK':'Oakland Raiders',\n",
    "    'PHI':'Philadelphia Eagles',\n",
    "    'PIT':'Pittsburgh Steelers',\n",
    "    'LAC': 'Los Angeles Chargers',\n",
    "    'SEA':'Seattle Seahawks',\n",
    "    'SF':'San Francisco 49ers',\n",
    "    'TB':'Tampa Bay Buccaneers',\n",
    "    'TEN':'Tennessee Titans',\n",
    "    'WSH':'Washington Redskins',\n",
    "})"
   ]
  },
  {
   "cell_type": "markdown",
   "metadata": {},
   "source": [
    "# Exploratory Data analysis"
   ]
  },
  {
   "cell_type": "code",
   "execution_count": 46,
   "metadata": {},
   "outputs": [
    {
     "data": {
      "text/html": [
       "<div>\n",
       "<style scoped>\n",
       "    .dataframe tbody tr th:only-of-type {\n",
       "        vertical-align: middle;\n",
       "    }\n",
       "\n",
       "    .dataframe tbody tr th {\n",
       "        vertical-align: top;\n",
       "    }\n",
       "\n",
       "    .dataframe thead th {\n",
       "        text-align: right;\n",
       "    }\n",
       "</style>\n",
       "<table border=\"1\" class=\"dataframe\">\n",
       "  <thead>\n",
       "    <tr style=\"text-align: right;\">\n",
       "      <th></th>\n",
       "      <th>yardline_100</th>\n",
       "      <th>quarter_seconds_remaining</th>\n",
       "      <th>half_seconds_remaining</th>\n",
       "      <th>game_seconds_remaining</th>\n",
       "      <th>qtr</th>\n",
       "      <th>down</th>\n",
       "      <th>goal_to_go</th>\n",
       "      <th>ydstogo</th>\n",
       "      <th>score_differential</th>\n",
       "      <th>shotgun</th>\n",
       "      <th>no_huddle</th>\n",
       "    </tr>\n",
       "  </thead>\n",
       "  <tbody>\n",
       "    <tr>\n",
       "      <th>count</th>\n",
       "      <td>26299.000000</td>\n",
       "      <td>26299.000000</td>\n",
       "      <td>26299.000000</td>\n",
       "      <td>26299.000000</td>\n",
       "      <td>26299.000000</td>\n",
       "      <td>26299.000000</td>\n",
       "      <td>26299.000000</td>\n",
       "      <td>26299.000000</td>\n",
       "      <td>26299.000000</td>\n",
       "      <td>26299.000000</td>\n",
       "      <td>26299.000000</td>\n",
       "    </tr>\n",
       "    <tr>\n",
       "      <th>mean</th>\n",
       "      <td>51.364805</td>\n",
       "      <td>426.745732</td>\n",
       "      <td>831.487357</td>\n",
       "      <td>1730.289593</td>\n",
       "      <td>2.555116</td>\n",
       "      <td>1.983688</td>\n",
       "      <td>0.061675</td>\n",
       "      <td>8.771474</td>\n",
       "      <td>-1.381992</td>\n",
       "      <td>0.584015</td>\n",
       "      <td>0.072284</td>\n",
       "    </tr>\n",
       "    <tr>\n",
       "      <th>std</th>\n",
       "      <td>24.583820</td>\n",
       "      <td>272.505406</td>\n",
       "      <td>544.474106</td>\n",
       "      <td>1045.946041</td>\n",
       "      <td>1.121063</td>\n",
       "      <td>0.998935</td>\n",
       "      <td>0.240570</td>\n",
       "      <td>4.257156</td>\n",
       "      <td>10.723200</td>\n",
       "      <td>0.492900</td>\n",
       "      <td>0.258963</td>\n",
       "    </tr>\n",
       "    <tr>\n",
       "      <th>min</th>\n",
       "      <td>1.000000</td>\n",
       "      <td>0.000000</td>\n",
       "      <td>0.000000</td>\n",
       "      <td>0.000000</td>\n",
       "      <td>1.000000</td>\n",
       "      <td>1.000000</td>\n",
       "      <td>0.000000</td>\n",
       "      <td>1.000000</td>\n",
       "      <td>-49.000000</td>\n",
       "      <td>0.000000</td>\n",
       "      <td>0.000000</td>\n",
       "    </tr>\n",
       "    <tr>\n",
       "      <th>25%</th>\n",
       "      <td>32.000000</td>\n",
       "      <td>177.000000</td>\n",
       "      <td>331.000000</td>\n",
       "      <td>823.000000</td>\n",
       "      <td>2.000000</td>\n",
       "      <td>1.000000</td>\n",
       "      <td>0.000000</td>\n",
       "      <td>6.000000</td>\n",
       "      <td>-7.000000</td>\n",
       "      <td>0.000000</td>\n",
       "      <td>0.000000</td>\n",
       "    </tr>\n",
       "    <tr>\n",
       "      <th>50%</th>\n",
       "      <td>55.000000</td>\n",
       "      <td>415.000000</td>\n",
       "      <td>820.000000</td>\n",
       "      <td>1800.000000</td>\n",
       "      <td>3.000000</td>\n",
       "      <td>2.000000</td>\n",
       "      <td>0.000000</td>\n",
       "      <td>10.000000</td>\n",
       "      <td>0.000000</td>\n",
       "      <td>1.000000</td>\n",
       "      <td>0.000000</td>\n",
       "    </tr>\n",
       "    <tr>\n",
       "      <th>75%</th>\n",
       "      <td>72.000000</td>\n",
       "      <td>665.000000</td>\n",
       "      <td>1303.000000</td>\n",
       "      <td>2615.000000</td>\n",
       "      <td>4.000000</td>\n",
       "      <td>3.000000</td>\n",
       "      <td>0.000000</td>\n",
       "      <td>10.000000</td>\n",
       "      <td>4.000000</td>\n",
       "      <td>1.000000</td>\n",
       "      <td>0.000000</td>\n",
       "    </tr>\n",
       "    <tr>\n",
       "      <th>max</th>\n",
       "      <td>99.000000</td>\n",
       "      <td>900.000000</td>\n",
       "      <td>1800.000000</td>\n",
       "      <td>3600.000000</td>\n",
       "      <td>5.000000</td>\n",
       "      <td>4.000000</td>\n",
       "      <td>1.000000</td>\n",
       "      <td>40.000000</td>\n",
       "      <td>49.000000</td>\n",
       "      <td>1.000000</td>\n",
       "      <td>1.000000</td>\n",
       "    </tr>\n",
       "  </tbody>\n",
       "</table>\n",
       "</div>"
      ],
      "text/plain": [
       "       yardline_100  quarter_seconds_remaining  half_seconds_remaining  \\\n",
       "count  26299.000000               26299.000000            26299.000000   \n",
       "mean      51.364805                 426.745732              831.487357   \n",
       "std       24.583820                 272.505406              544.474106   \n",
       "min        1.000000                   0.000000                0.000000   \n",
       "25%       32.000000                 177.000000              331.000000   \n",
       "50%       55.000000                 415.000000              820.000000   \n",
       "75%       72.000000                 665.000000             1303.000000   \n",
       "max       99.000000                 900.000000             1800.000000   \n",
       "\n",
       "       game_seconds_remaining           qtr          down    goal_to_go  \\\n",
       "count            26299.000000  26299.000000  26299.000000  26299.000000   \n",
       "mean              1730.289593      2.555116      1.983688      0.061675   \n",
       "std               1045.946041      1.121063      0.998935      0.240570   \n",
       "min                  0.000000      1.000000      1.000000      0.000000   \n",
       "25%                823.000000      2.000000      1.000000      0.000000   \n",
       "50%               1800.000000      3.000000      2.000000      0.000000   \n",
       "75%               2615.000000      4.000000      3.000000      0.000000   \n",
       "max               3600.000000      5.000000      4.000000      1.000000   \n",
       "\n",
       "            ydstogo  score_differential       shotgun     no_huddle  \n",
       "count  26299.000000        26299.000000  26299.000000  26299.000000  \n",
       "mean       8.771474           -1.381992      0.584015      0.072284  \n",
       "std        4.257156           10.723200      0.492900      0.258963  \n",
       "min        1.000000          -49.000000      0.000000      0.000000  \n",
       "25%        6.000000           -7.000000      0.000000      0.000000  \n",
       "50%       10.000000            0.000000      1.000000      0.000000  \n",
       "75%       10.000000            4.000000      1.000000      0.000000  \n",
       "max       40.000000           49.000000      1.000000      1.000000  "
      ]
     },
     "execution_count": 46,
     "metadata": {},
     "output_type": "execute_result"
    }
   ],
   "source": [
    "play_by_play_training = play_by_play_training[['game_date', 'posteam','yardline_100','quarter_seconds_remaining','half_seconds_remaining','game_seconds_remaining','qtr','down','goal_to_go','ydstogo','play_type','score_differential','shotgun','no_huddle']]\n",
    "play_by_play_training = play_by_play_training.dropna()\n",
    "\n",
    "\n",
    "play_by_play = play_by_play[['game_date', 'posteam','yardline_100','quarter_seconds_remaining','half_seconds_remaining','game_seconds_remaining','qtr','down','goal_to_go','ydstogo','play_type','score_differential','shotgun','no_huddle']]\n",
    "play_by_play = play_by_play.dropna()\n",
    "\n",
    "training = play_by_play_training[(play_by_play_training.game_date.str.contains('2018')) & (play_by_play_training.posteam == 'CHI') & (play_by_play_training.down.isin(range(1,5))) & ((play_by_play_training.play_type == 'run') | (play_by_play_training.play_type == 'pass'))]\n",
    "testing = play_by_play[(play_by_play.game_date.str.contains('2019')) & (play_by_play.posteam == 'CHI') & (play_by_play.down.isin(range(1,5))) & ((play_by_play.play_type == 'run') | (play_by_play.play_type == 'pass'))]\n"
   ]
  },
  {
   "cell_type": "code",
   "execution_count": 5,
   "metadata": {},
   "outputs": [
    {
     "data": {
      "image/png": "[encoded data removed]",
      "text/plain": [
       "<Figure size 432x288 with 1 Axes>"
      ]
     },
     "metadata": {},
     "output_type": "display_data"
    }
   ],
   "source": [
    "play_type = testing['play_type'].value_counts()\n",
    "plt.pie(play_type,labels=('Passing','Rushing'), autopct='%.2f%%')\n",
    "plt.title(\"Chicago Bears 2019 distribution\")\n",
    "plt.subplots_adjust(left=0, bottom=0, right=1, top=1, wspace=0, hspace=0)\n",
    "plt.show()"
   ]
  },
  {
   "cell_type": "code",
   "execution_count": 6,
   "metadata": {},
   "outputs": [
    {
     "data": {
      "image/png": "[encoded data removed]",
      "text/plain": [
       "<Figure size 432x288 with 1 Axes>"
      ]
     },
     "metadata": {},
     "output_type": "display_data"
    }
   ],
   "source": [
    "shotgun_df = play_by_play[(play_by_play.game_date.str.contains('2019')) & (play_by_play.posteam == 'CHI') & (play_by_play.down.isin(range(1,5))) & ((play_by_play.play_type == 'run') | (play_by_play.play_type == 'pass')) & (play_by_play.shotgun == 1)]\n",
    "\n",
    "relative_frequency = shotgun_df['play_type'].value_counts()\n",
    "\n",
    "plt.pie(relative_frequency, labels = ('pass', 'run'), autopct='%.2f%%')\n",
    "plt.title(\"Chicago Bears' 2019 shotgun formation play-type distribution\")\n",
    "plt.subplots_adjust(left=0, bottom=0, right=1, top=1, wspace=0, hspace=0)\n",
    "plt.show()"
   ]
  },
  {
   "cell_type": "code",
   "execution_count": 11,
   "metadata": {},
   "outputs": [
    {
     "data": {
      "image/png": "[encoded data removed]",
      "text/plain": [
       "<Figure size 1080x288 with 4 Axes>"
      ]
     },
     "metadata": {
      "needs_background": "light"
     },
     "output_type": "display_data"
    }
   ],
   "source": [
    "ss = pd.read_csv('fantasy2019.csv')\n",
    "fig, ax = plt.subplots(1,4, sharey=True, figsize=(15,4))\n",
    "\n",
    "cols = ['k', 'c', 'g', 'b']\n",
    "\n",
    "for i, pos in enumerate([\"QB\", \"RB\", \"WR\", \"TE\"]):\n",
    "    t = (ss\n",
    "     .query('Position == @pos')\n",
    "     .groupby('Name')\n",
    "     .agg({'FantPt': ['mean', 'std'],\n",
    "           'Position': 'min'}))\n",
    "    ax[i].scatter(t[('FantPt','mean')], t[('FantPt', 'std')],\n",
    "                  c=cols[i], s=50, alpha=0.5, label=pos)\n",
    "    ax[i].set(xlabel='Avg Pts', title=pos)\n",
    "\n",
    "ax[0].annotate('L. Jackson', xy=(27.5, 6.76), xytext=(16, 2),\n",
    "                arrowprops={'facecolor':'black', 'width':0.1, 'shrink':0.08})\n",
    "ax[1].annotate('C. McCaffery', xy=(24.44, 9.4), xytext=(15, 2),\n",
    "                arrowprops={'facecolor':'black', 'width':0.1, 'shrink':0.08})\n",
    "ax[2].annotate('C. Godwin', xy=(14.9, 8.9), xytext=(9, 2),\n",
    "                arrowprops={'facecolor':'black', 'width':0.1, 'shrink':0.1})\n",
    "ax[3].annotate('T. Kelce', xy=(10.95, 4.5), xytext=(9, 2),\n",
    "                arrowprops={'facecolor':'black', 'width':0.1, 'shrink':0.1})\n",
    "ax[0].set(ylim=[1,13])\n",
    "plt.tight_layout()\n",
    "\n",
    "plt.show()"
   ]
  },
  {
   "cell_type": "code",
   "execution_count": 25,
   "metadata": {},
   "outputs": [
    {
     "data": {
      "image/png": "[encoded data removed]",
      "text/plain": [
       "<Figure size 432x288 with 1 Axes>"
      ]
     },
     "metadata": {
      "needs_background": "light"
     },
     "output_type": "display_data"
    }
   ],
   "source": [
    "hometeam_winner = df['Winner'].value_counts()\n",
    "\n",
    "plot_1 = pd.DataFrame({\"Winner\":[\"Home Team\", \"Away Team\",\"Draw\"],\n",
    "               \"Team\":[hometeam_winner[0], hometeam_winner[1],hometeam_winner[2]],\n",
    "                  })\n",
    "plot_1.plot(x='Winner', kind='bar', color=[\"b\",\"r\"], rot=0).set(title = 'Winner', ylabel= '# of Games');"
   ]
  },
  {
   "cell_type": "markdown",
   "metadata": {},
   "source": [
    "# Regression model"
   ]
  },
  {
   "cell_type": "code",
   "execution_count": 26,
   "metadata": {},
   "outputs": [],
   "source": [
    "scaler = preprocessing.LabelEncoder()\n",
    "df = df.apply(scaler.fit_transform)\n",
    "\n",
    "x_train,x_val,y_train,y_val = train_test_split(df[['Home Team', 'Away Team',\n",
    "                                                  'Home Odd Diff','Away Odd Diff','Spread Fav']], df['Winner'],\n",
    "                                              test_size = 0.25, random_state = 0)\n",
    "scaler = StandardScaler()\n",
    "scaler.fit(x_train)\n",
    "x_train_scaled = scaler.transform(x_train)\n",
    "x_val_scaled = scaler.transform(x_val)"
   ]
  },
  {
   "cell_type": "code",
   "execution_count": 27,
   "metadata": {},
   "outputs": [
    {
     "name": "stderr",
     "output_type": "stream",
     "text": [
      "C:\\Users\\Preethi\\Anaconda3\\lib\\site-packages\\sklearn\\linear_model\\logistic.py:432: FutureWarning: Default solver will be changed to 'lbfgs' in 0.22. Specify a solver to silence this warning.\n",
      "  FutureWarning)\n",
      "C:\\Users\\Preethi\\Anaconda3\\lib\\site-packages\\sklearn\\linear_model\\logistic.py:469: FutureWarning: Default multi_class will be changed to 'auto' in 0.22. Specify the multi_class option to silence this warning.\n",
      "  \"this warning.\", FutureWarning)\n",
      "C:\\Users\\Preethi\\Anaconda3\\lib\\site-packages\\sklearn\\metrics\\classification.py:1437: UndefinedMetricWarning: Precision is ill-defined and being set to 0.0 in labels with no predicted samples.\n",
      "  'precision', 'predicted', average, warn_for)\n",
      "C:\\Users\\Preethi\\Anaconda3\\lib\\site-packages\\sklearn\\metrics\\classification.py:1437: UndefinedMetricWarning: F-score is ill-defined and being set to 0.0 in labels with no predicted samples.\n",
      "  'precision', 'predicted', average, warn_for)\n"
     ]
    },
    {
     "name": "stdout",
     "output_type": "stream",
     "text": [
      "R squared value =0.09652870680769443\n",
      "[0.671957671957672, 0.328042328042328, array([0.        , 0.5915493 , 0.72033898]), array([0.        , 0.56375839, 0.74889868]), array([0.        , 0.57731959, 0.73434125])]\n"
     ]
    },
    {
     "data": {
      "image/png": "[encoded data removed]",
      "text/plain": [
       "<Figure size 432x288 with 2 Axes>"
      ]
     },
     "metadata": {
      "needs_background": "light"
     },
     "output_type": "display_data"
    }
   ],
   "source": [
    "model = LogisticRegression()\n",
    "model.fit(x_train,y_train)\n",
    "y_pred = model.predict(x_val_scaled)\n",
    "corr_coef = np.corrcoef(y_val,y_pred)[1, 0]\n",
    "R_squared = corr_coef**2\n",
    "print(\"R squared value =\"+str(R_squared))\n",
    "\n",
    "accuracy = metrics.accuracy_score(y_val, y_pred)\n",
    "error = 1 - accuracy\n",
    "precision = metrics.precision_score(y_val, y_pred, average = None)\n",
    "recall = metrics.recall_score(y_val, y_pred, average = None)\n",
    "F1_score = metrics.f1_score(y_val, y_pred, average = None)\n",
    "print([accuracy, error, precision, recall, F1_score])\n",
    "conf_matrix = metrics.confusion_matrix(y_val, y_pred)\n",
    "sns.heatmap(conf_matrix, annot = True, fmt = \".3f\", square = True, cmap = plt.cm.Blues)\n",
    "plt.ylabel('Actual')\n",
    "plt.xlabel('Predicted')\n",
    "plt.title('Confusion matrix')\n",
    "plt.tight_layout()"
   ]
  },
  {
   "cell_type": "markdown",
   "metadata": {},
   "source": [
    "# Classification"
   ]
  },
  {
   "cell_type": "code",
   "execution_count": 47,
   "metadata": {},
   "outputs": [],
   "source": [
    "training_features = play_by_play_training[['yardline_100','quarter_seconds_remaining','half_seconds_remaining','game_seconds_remaining','qtr','down','goal_to_go','ydstogo','score_differential','shotgun','no_huddle']]\n",
    "\n",
    "training_label = play_by_play_training['play_type']\n",
    "\n",
    "testing_features = play_by_play[['yardline_100','quarter_seconds_remaining','half_seconds_remaining','game_seconds_remaining','qtr','down','goal_to_go','ydstogo','score_differential','shotgun','no_huddle']]\n",
    "\n",
    "testing_label = play_by_play['play_type']\n",
    "\n",
    "# training_features"
   ]
  },
  {
   "cell_type": "code",
   "execution_count": 48,
   "metadata": {},
   "outputs": [
    {
     "data": {
      "text/plain": [
       "GradientBoostingClassifier(criterion='friedman_mse', init=None,\n",
       "                           learning_rate=0.02, loss='deviance', max_depth=3,\n",
       "                           max_features=None, max_leaf_nodes=None,\n",
       "                           min_impurity_decrease=0.0, min_impurity_split=None,\n",
       "                           min_samples_leaf=1, min_samples_split=2,\n",
       "                           min_weight_fraction_leaf=0.0, n_estimators=100,\n",
       "                           n_iter_no_change=None, presort='auto',\n",
       "                           random_state=None, subsample=1.0, tol=0.0001,\n",
       "                           validation_fraction=0.1, verbose=0,\n",
       "                           warm_start=False)"
      ]
     },
     "execution_count": 48,
     "metadata": {},
     "output_type": "execute_result"
    }
   ],
   "source": [
    "gbr = ensemble.GradientBoostingClassifier(n_estimators = 100, learning_rate = 0.02)\n",
    "gbr.fit(training_features, training_label)"
   ]
  },
  {
   "cell_type": "code",
   "execution_count": 49,
   "metadata": {},
   "outputs": [
    {
     "name": "stdout",
     "output_type": "stream",
     "text": [
      "Accuracy: 68.70%\n"
     ]
    }
   ],
   "source": [
    "prediction = gbr.predict(testing_features)\n",
    "\n",
    "accuracy = accuracy_score(testing_label, prediction)\n",
    "\n",
    "print(\"Accuracy: \"+\"{:.2%}\".format(accuracy))"
   ]
  },
  {
   "cell_type": "code",
   "execution_count": 50,
   "metadata": {},
   "outputs": [
    {
     "data": {
      "image/png": "[encoded data removed]",
      "text/plain": [
       "<Figure size 432x288 with 1 Axes>"
      ]
     },
     "metadata": {
      "needs_background": "light"
     },
     "output_type": "display_data"
    }
   ],
   "source": [
    "features = ['yl_100', 'q_sec', 'h_sec', 'g_sec', 'qtr', 'down' ,'g2g', 'yd2g', 'sd', 'shot', 'nh'] \n",
    "\n",
    "feature_importance = gbr.feature_importances_.tolist()\n",
    "\n",
    "plt.bar(features,feature_importance)\n",
    "plt.title(\"gradient boosting classifier: feature importance\")\n",
    "plt.show()"
   ]
  },
  {
   "cell_type": "code",
   "execution_count": 51,
   "metadata": {},
   "outputs": [],
   "source": [
    "play_by_play['posteam'].replace('STL','LA',inplace=True)\n",
    "play_by_play['posteam'].replace('SD','LAC',inplace=True)\n",
    "play_by_play['posteam'].replace('JAC','JAX',inplace=True)\n",
    "play_by_play_training['posteam'].replace('STL','LA',inplace=True)\n",
    "play_by_play_training['posteam'].replace('SD','LAC',inplace=True)\n",
    "play_by_play_training['posteam'].replace('JAC','JAX',inplace=True)"
   ]
  },
  {
   "cell_type": "code",
   "execution_count": 52,
   "metadata": {},
   "outputs": [],
   "source": [
    "results = pd.DataFrame(columns =['accuracy'])\n",
    "\n",
    "for tm in play_by_play_training.posteam.unique():\n",
    "    \n",
    "    training_df = play_by_play_training[(play_by_play_training.game_date.str.contains('2018')) & (play_by_play_training.posteam == tm) & (play_by_play_training.down.isin(range(1,5))) & ((play_by_play_training.play_type == 'run') | (play_by_play_training.play_type == 'pass'))]\n",
    "    testing_df = play_by_play[(play_by_play.game_date.str.contains('2019')) & (play_by_play.posteam == tm) & (play_by_play.down.isin(range(1,5))) & ((play_by_play.play_type == 'run') | (play_by_play.play_type == 'pass'))]\n",
    "\n",
    "    training_features = training_df[['yardline_100','quarter_seconds_remaining','half_seconds_remaining','game_seconds_remaining','qtr','down','goal_to_go','ydstogo','score_differential','shotgun','no_huddle']]\n",
    "    training_label = training_df['play_type']\n",
    "    \n",
    "    testing_features = testing_df[['yardline_100','quarter_seconds_remaining','half_seconds_remaining','game_seconds_remaining','qtr','down','goal_to_go','ydstogo','score_differential','shotgun','no_huddle']]\n",
    "    testing_label = testing_df['play_type']\n",
    "    \n",
    "    prediction = gbr.predict(testing_features)\n",
    "    accuracy = accuracy_score(testing_label, prediction)\n",
    "   \n",
    "    results.loc[tm] = [accuracy]"
   ]
  },
  {
   "cell_type": "code",
   "execution_count": 53,
   "metadata": {},
   "outputs": [
    {
     "data": {
      "image/png": "[encoded data removed]",
      "text/plain": [
       "<Figure size 432x288 with 1 Axes>"
      ]
     },
     "metadata": {
      "needs_background": "light"
     },
     "output_type": "display_data"
    }
   ],
   "source": [
    "plt.bar(results.index,results.accuracy)\n",
    "plt.xticks(rotation=90)\n",
    "plt.title(\"Accuracy of predictive model trained on bears for all 32 nfl teams\")\n",
    "plt.subplots_adjust(left=0, bottom=0, right=1, top=1, wspace=0, hspace=0)\n",
    "plt.show()"
   ]
  },
  {
   "cell_type": "markdown",
   "metadata": {},
   "source": [
    "# Clustering"
   ]
  },
  {
   "cell_type": "code",
   "execution_count": 54,
   "metadata": {},
   "outputs": [
    {
     "data": {
      "image/png": "[encoded data removed]",
      "text/plain": [
       "<Figure size 432x288 with 2 Axes>"
      ]
     },
     "metadata": {
      "needs_background": "light"
     },
     "output_type": "display_data"
    }
   ],
   "source": [
    "scaler = preprocessing.LabelEncoder()\n",
    "ss = ss.apply(scaler.fit_transform)\n",
    "X = ss[['FantPt']]\n",
    "scaler = StandardScaler()\n",
    "scaler.fit(X)\n",
    "X_scaled = scaler.transform(X) \n",
    "clustering = KMeans(n_clusters = 4, init = 'random', n_init = 10, random_state = 0).fit(X_scaled)\n",
    "clusters = clustering.labels_\n",
    "ss['clusters'] = clusters\n",
    "ax = ss.plot(kind = 'scatter', x = 'FantPt', y = 'Position', c = 'clusters', colormap = plt.cm.brg)"
   ]
  },
  {
   "cell_type": "code",
   "execution_count": null,
   "metadata": {},
   "outputs": [],
   "source": []
  }
 ],
 "metadata": {
  "kernelspec": {
   "display_name": "Python 3",
   "language": "python",
   "name": "python3"
  },
  "language_info": {
   "codemirror_mode": {
    "name": "ipython",
    "version": 3
   },
   "file_extension": ".py",
   "mimetype": "text/x-python",
   "name": "python",
   "nbconvert_exporter": "python",
   "pygments_lexer": "ipython3",
   "version": "3.7.3"
  }
 },
 "nbformat": 4,
 "nbformat_minor": 2
}
